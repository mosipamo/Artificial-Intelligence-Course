{
 "cells": [
  {
   "cell_type": "markdown",
   "metadata": {},
   "source": [
    "# Mohammad Sina Parvizi Motlagh - 810101394\n",
    "Artificial Intelligence - CA1: **`Genetic Algorithm`** - Spring 1403 \\\n",
    "Goal: We have to implement a genetic algorithm to solve **`knapsack problem`**."
   ]
  },
  {
   "cell_type": "markdown",
   "metadata": {},
   "source": [
    "# Genetic Algorithm Implementation\n",
    "\n",
    "The objective of this implementation is to solve the knapsack problem using a genetic algorithm. The goal is to find the optimal solution, which involves selecting a combination of items (snacks) from a given CSV file while adhering to specified constraints provided via input.\n",
    "\n",
    "## Steps:\n",
    "\n",
    "1. **`Chromosome Definition`**: The first step involves defining the structure of the chromosomes. These chromosomes represent potential solutions to the knapsack problem.\n",
    "\n",
    "2. **`Initialization`**: Random solutions are generated to initialize the population of chromosomes. These solutions serve as starting points for the genetic algorithm.\n",
    "\n",
    "3. **`Fitness Function`**: A fitness function is defined to evaluate the quality of each chromosome. This function measures how well a chromosome satisfies the constraints of the knapsack problem and how close it is to the optimal solution.\n",
    "\n",
    "4. **`Genetic Operations`**:\n",
    "    - **`Crossover`**: Chromosomes undergo crossover operations to create new offspring. This process combines the genetic information of two parent chromosomes to produce potentially better solutions.\n",
    "    - **`Mutation`**: Some chromosomes undergo mutation, introducing small random changes to their genetic makeup. Mutation helps introduce diversity into the population and prevent premature convergence to suboptimal solutions.\n",
    "\n",
    "5. **`Selection`**: Chromosomes are selected for the next generation based on their fitness. The fittest chromosomes are more likely to be chosen for reproduction, ensuring that better solutions are carried forward to subsequent generations.\n",
    "\n",
    "6. **`Termination and Comparison`**: The genetic algorithm iterates through multiple generations, continually improving the solutions. Finally, the best solution from each generation is compared, and the overall best solution is determined.\n",
    "\n",
    "By following these steps, the genetic algorithm iteratively evolves solutions to the knapsack problem, ultimately aiming to find the optimal combination of items that maximizes value while respecting constraints."
   ]
  },
  {
   "cell_type": "code",
   "execution_count": 67,
   "metadata": {},
   "outputs": [],
   "source": [
    "# Imports\n",
    "# Need random library to generate random numbers.\n",
    "# Nedd matplotlib library to draw some plots\n",
    "import matplotlib.pyplot as plt\n",
    "import random"
   ]
  },
  {
   "cell_type": "markdown",
   "metadata": {},
   "source": [
    "# CSV-File\n",
    "I made a class **`Snack_Items`** to store the csv-file in a list called `Snacks`. The csv file is about the name of snacks, their values and their available weight."
   ]
  },
  {
   "cell_type": "code",
   "execution_count": 68,
   "metadata": {},
   "outputs": [],
   "source": [
    "# Class for storing the csv-file in a list\n",
    "class Snack_Items:\n",
    "    def __init__(self, name, available_weight, value):\n",
    "        self.name = name\n",
    "        self.available_weight = available_weight\n",
    "        self.value = value"
   ]
  },
  {
   "cell_type": "code",
   "execution_count": 69,
   "metadata": {},
   "outputs": [
    {
     "name": "stdout",
     "output_type": "stream",
     "text": [
      "MazMaz 10.0 10.0\n",
      "Doogh-e-Abali 10.0 15.0\n",
      "Nani 5.0 5.0\n",
      "Jooj 15.0 7.0\n",
      "Hot-Dog 15.0 20.0\n",
      "Chips 6.0 8.0\n",
      "Nooshaba 8.0 12.0\n",
      "Shokolat 7.0 6.0\n",
      "Chocoroll 12.0 9.0\n",
      "Cookies 11.0 11.0\n",
      "Abnabat 4.0 4.0\n",
      "Adams-Khersi 9.0 14.0\n",
      "Popcorn 13.0 16.0\n",
      "Pastil 7.0 3.0\n",
      "Tordilla 9.0 10.0\n",
      "Masghati 6.0 5.0\n",
      "Ghottab 10.0 7.0\n",
      "Saghe-Talaei 11.0 9.0\n",
      "Choob-Shoor 12.0 13.0\n"
     ]
    }
   ],
   "source": [
    "# Store csv-file in a list\n",
    "file_name = \"snacks.csv\"\n",
    "Snacks = []\n",
    "with open (file_name, \"r\") as f:\n",
    "    next(f)\n",
    "    for line in f:\n",
    "        new_line = line.split(\",\")\n",
    "        name, weight, value = new_line[0], new_line[1], new_line[2]\n",
    "        new_item = Snack_Items(str(name), float(weight), float(value))\n",
    "        Snacks.append(new_item)\n",
    "\n",
    "# Test that created list\n",
    "for snack in Snacks:\n",
    "    print(snack.name, snack.value, snack.available_weight)"
   ]
  },
  {
   "cell_type": "markdown",
   "metadata": {},
   "source": [
    "# Parameters\n",
    "The genetic algorithm relies on several parameters to tailor its behavior and guide the solution process for the knapsack problem:\n",
    "\n",
    "- `GENERATION_SIZE`: The number of generations the algorithm will iterate through.\n",
    "- `POPULTAION_SIZE`: The number of chromosomes (candidate solutions) in each generation.\n",
    "- `SNACKS_COUNT`: The number of genes (snacks) in each chromosome.\n",
    "- `MAX_WEIGHT`: The maximum weight that the knapsack can hold.\n",
    "- `MIN_VALUE`: The minimum value of snacks that should be included in the knapsack.\n",
    "- `MIN_LIMIT`: The minimum number of snacks that must be picked.\n",
    "- `MAX_LIMIT`: The maximum number of snacks that can be picked.\n",
    "- `MUTATION_RATE`: The probability of applying mutation to a chromosome during reproduction.\n",
    "- `CROSSOVER_RATE`: The probability of applying crossover (recombination) to produce offspring.\n",
    "- `GENERATION_LIST`: The list of generations!\n",
    "  \n",
    "These parameters play a crucial role in shaping the genetic algorithm's search strategy and determining the characteristics of the solutions it generates. Fine-tuning these parameters can significantly impact the algorithm's performance and the quality of the solutions obtained."
   ]
  },
  {
   "cell_type": "code",
   "execution_count": 70,
   "metadata": {},
   "outputs": [],
   "source": [
    "# Parameters\n",
    "GENERATION_SIZE = 100\n",
    "POPULATION_SIZE = 100\n",
    "MAX_WEIGHT = 80\n",
    "MIN_VALUE = 95\n",
    "MIN_LIMIT = 19\n",
    "MAX_LIMIT = 19\n",
    "MUTATION_RATE = 0.2\n",
    "CROSSOVER_RATE = 0.9\n",
    "SNACKS_COUNT = len(Snacks)\n",
    "GENERATION_LIST = [i + 1 for i in range(GENERATION_SIZE)]"
   ]
  },
  {
   "cell_type": "markdown",
   "metadata": {},
   "source": [
    "# Fitness-Function and Computational Functions\n",
    "\n",
    "In the following cells, I will define several computational functions to assist in calculating values necessary for determining the fitness of a chromosome:\n",
    "\n",
    "- **`calculate_weight()`**: Calculates the total weight of a chromosome.\n",
    "- **`calculate_value()`**: Computes the total value of a chromosome.\n",
    "- **`count_num_of_picked_items()`**: Returns the number of picked items for each chromosome.\n",
    "- **`factor_based_on_picked_items()`**: Determines a factor based on the number of picked items:\n",
    "    - If the number of picked items is below `MIN_LIMIT`, it returns the difference plus 1.\n",
    "    - If it is above `MAX_LIMIT`, it returns the difference plus 1.\n",
    "    - If it falls within the range `[MIN_LIMIT, MAX_LIMIT]`, it returns 1.\n",
    "- **`factor_based_on_value()`**: Decides a factor based on the value of a chromosome:\n",
    "    - If the value of a chromosome is below or equal to `MIN_VALUE`, it returns the difference plus 1.\n",
    "    - Otherwise, it returns 1, indicating that the value satisfies the constraint.\n",
    "- **`factor_based_on_weight()`**: Determines a factor based on the weight of a chromosome:\n",
    "    - If the weight of a chromosome is above or equal to `MAX_WEIGHT`, it returns the difference plus 1 multiplied by 2.\n",
    "    - Otherwise, it returns 1, indicating that the weight satisfies the constraint.\n",
    "\n",
    "Finally, the **`fitness_function()`** calculates the fitness of a chromosome using the formula:\n",
    "\n",
    "$$ fitness = \\frac{value}{res\\_factor} $$\n",
    "\n",
    "where $ {res\\_factor} $ is the product of three factors:\n",
    "- $ {picked\\_items\\_based\\_factor} $ (calculated in **`factor_based_on_picked_items()`** function).\n",
    "- $ {value\\_based\\_factor} $ (calculated in **`factor_based_on_value()`** function).\n",
    "- $ {weight\\_based\\_factor} $ (calculated in **`factor_based_on_weight()`** function).\n"
   ]
  },
  {
   "cell_type": "code",
   "execution_count": 71,
   "metadata": {},
   "outputs": [],
   "source": [
    "# Function to calculate the total weight of a chromosome\n",
    "def calculate_weight(i_list, s_list):\n",
    "    total_weight = 0\n",
    "    for i in range(len(i_list)):        \n",
    "        if s_list[i] != 0:\n",
    "            total_weight += s_list[i]\n",
    "    \n",
    "    return round(total_weight, 3)"
   ]
  },
  {
   "cell_type": "code",
   "execution_count": 72,
   "metadata": {},
   "outputs": [],
   "source": [
    "# Function to calculate the total value of a chromosome\n",
    "def calculate_value(i_list, s_list):\n",
    "    total_value = 0\n",
    "    for i in range(len(i_list)):\n",
    "        if s_list[i] != 0:\n",
    "            total_value += s_list[i] * i_list[i].value / i_list[i].available_weight\n",
    "    \n",
    "    return round(total_value, 3)"
   ]
  },
  {
   "cell_type": "code",
   "execution_count": 73,
   "metadata": {},
   "outputs": [],
   "source": [
    "# Function to count the number of picked items in a chromosome\n",
    "def count_num_of_picked_items(lst):\n",
    "    return sum(1 for bit in lst if bit != 0)"
   ]
  },
  {
   "cell_type": "code",
   "execution_count": 74,
   "metadata": {},
   "outputs": [],
   "source": [
    "# Function to calculate the factor based on the number of picked items\n",
    "def factor_based_on_picked_items(s_list):\n",
    "    num_of_non_zero = count_num_of_picked_items(s_list)\n",
    "    if num_of_non_zero < MIN_LIMIT:\n",
    "        factor = MIN_LIMIT - num_of_non_zero + 1\n",
    "    elif num_of_non_zero > MAX_LIMIT:\n",
    "        factor = num_of_non_zero - MAX_LIMIT + 1\n",
    "    else:\n",
    "        factor = 1  \n",
    "    \n",
    "    return factor"
   ]
  },
  {
   "cell_type": "code",
   "execution_count": 75,
   "metadata": {},
   "outputs": [],
   "source": [
    "# Function to calculate the factor based on the value of a chromosome\n",
    "def factor_based_on_value(i_list, s_list):\n",
    "    value = calculate_value(i_list, s_list)\n",
    "    if value <= MIN_VALUE:\n",
    "        factor = MIN_VALUE - value + 1\n",
    "    else:\n",
    "        factor = 1\n",
    "        \n",
    "    return factor"
   ]
  },
  {
   "cell_type": "code",
   "execution_count": 76,
   "metadata": {},
   "outputs": [],
   "source": [
    "# Function to calculate the factor based on the weight of a chromosome\n",
    "def factor_based_on_weight(i_list, s_list):\n",
    "    weight = calculate_weight(i_list, s_list)\n",
    "    if weight >= MAX_WEIGHT:\n",
    "        factor = (weight - MAX_WEIGHT + 1) * 2\n",
    "    else:\n",
    "        factor = 1\n",
    "        \n",
    "    return factor"
   ]
  },
  {
   "cell_type": "code",
   "execution_count": 77,
   "metadata": {},
   "outputs": [],
   "source": [
    "# Fitness Function\n",
    "def fitness_function(i_list, s_list):\n",
    "    value = calculate_value(i_list, s_list)\n",
    "    weight = calculate_weight(i_list, s_list)\n",
    "    \n",
    "    picked_items_based_factor = factor_based_on_picked_items(s_list)\n",
    "    value_based_factor = factor_based_on_value(i_list,s_list)\n",
    "    weight_based_factor = factor_based_on_weight(i_list, s_list)\n",
    "    \n",
    "    res_factor = picked_items_based_factor * weight_based_factor * weight_based_factor\n",
    "    \n",
    "    total = value / (round(res_factor, 3))\n",
    "    \n",
    "    return round(total, 3)"
   ]
  },
  {
   "cell_type": "markdown",
   "metadata": {},
   "source": [
    "# Population Initialization\n",
    "\n",
    "To create the initial population, we will use the **`initial_population()`** function. This function will generate a random population for the first generation, where each individual chromosome represents a potential solution to the knapsack problem. The size of the population is determined by the `POPULATION_SIZE` parameter, and the length of each chromosome is equal to `SNACKS_COUNT`. \n",
    "\n",
    "Each gene within a chromosome corresponds to the weight of a snack, represented as a floating-point number within the range `[0, AVAILABLE_WEIGHT[SNACK_ITEM]]`.\n",
    "\n",
    "This process involves the following steps:\n",
    "\n",
    "- **`create_random_solution()`**: This function generates a random chromosome (solution) by randomly selecting a subset of snacks. The number of snacks selected is chosen randomly between 2 and 4, and their weights are randomly assigned within the available weight range for each snack item.\n",
    "\n",
    "- **`initial_population()`**: This function creates the initial population by repeatedly calling `create_random_solution()` until the desired population size is reached. Each generated chromosome is appended to the population list."
   ]
  },
  {
   "cell_type": "code",
   "execution_count": 78,
   "metadata": {},
   "outputs": [],
   "source": [
    "# Make a random solution\n",
    "def create_random_solution(i_list):\n",
    "    solution = [0] * len(i_list)\n",
    "    random_number = random.randint(2, 4)\n",
    "    \n",
    "    indices_to_replace = random.sample(range(len(i_list)), random_number)\n",
    "    \n",
    "    for index in indices_to_replace:\n",
    "        solution[index] = round(random.uniform(0.1, i_list[index].available_weight), 1)\n",
    "        \n",
    "    return solution"
   ]
  },
  {
   "cell_type": "code",
   "execution_count": 79,
   "metadata": {},
   "outputs": [],
   "source": [
    "# Generate a population\n",
    "def initial_population(pop_size, i_list):\n",
    "    population = []\n",
    "    i = 0\n",
    "    while i < pop_size:\n",
    "        new_solution = create_random_solution(i_list)\n",
    "        population.append(new_solution)\n",
    "        i += 1\n",
    "    \n",
    "    return population"
   ]
  },
  {
   "cell_type": "markdown",
   "metadata": {},
   "source": [
    "# Crossover and Mutation Implementation\n",
    "\n",
    "In the following cells, I will define the functions responsible for crossover and mutation operations in the genetic algorithm.\n",
    "\n",
    "- **`crossover()`**: This function implements the crossover operation, which involves combining genetic material from two parent chromosomes to produce offspring chromosomes. For each pair of consecutive chromosomes in the population, a random number is generated. If this number is smaller than or equal to the crossover rate (`CROSSOVER_RATE`), crossover is applied. A random breakpoint is selected, and the genetic material on both sides of the breakpoint is swapped between the parent chromosomes to create two new child chromosomes.\n",
    "\n",
    "- **`mutation()`**: This function implements the mutation operation, which introduces random changes to individual chromosomes to maintain diversity in the population and prevent premature convergence. For each chromosome in the population, a random number is generated. If this number is smaller than the mutation rate (`MUTATION_RATE`), mutation is applied. Two random genes within the chromosome are selected, and their values are replaced with random values within the available weight range of the corresponding snacks.\n",
    "\n",
    "- **`mutationn()`**: This alternative mutation function applies mutations to every chromosome in the population, resulting in more mutations compared to the previous function. The purpose of this function is to increase diversity further, potentially exploring a wider range of solutions."
   ]
  },
  {
   "cell_type": "code",
   "execution_count": 80,
   "metadata": {},
   "outputs": [],
   "source": [
    "# Crossover\n",
    "def crossover(so_pop, c_rate=CROSSOVER_RATE):\n",
    "    for i in range(0, len(so_pop)-1, 2):\n",
    "        random_number = round(random.uniform(0, 1), 2)\n",
    "        \n",
    "        if random_number <= c_rate:\n",
    "            break_point = random.randint(0, len(so_pop[0]))\n",
    "            child1 = so_pop[i][:break_point] + so_pop[i+1][break_point:]\n",
    "            child2 = so_pop[i+1][:break_point] + so_pop[i][break_point:]\n",
    "            \n",
    "            so_pop[i] = child1\n",
    "            so_pop[i+1] = child2\n",
    "                \n",
    "    return so_pop"
   ]
  },
  {
   "cell_type": "code",
   "execution_count": 81,
   "metadata": {},
   "outputs": [],
   "source": [
    "# Mutation\n",
    "def mutation(cros_pop, i_list=Snacks, mut_rate=MUTATION_RATE):\n",
    "    if random.uniform(0, 1) <= mut_rate:\n",
    "        random_number = random.randint(0, len(cros_pop)-1)\n",
    "\n",
    "        mutation_index1 = random.randint(0, SNACKS_COUNT - 1)\n",
    "        mutation_index2 = random.randint(0, SNACKS_COUNT - 1)\n",
    "\n",
    "        cros_pop[random_number][mutation_index1] = round(random.uniform(0, i_list[mutation_index1].available_weight), 1)\n",
    "        cros_pop[random_number][mutation_index2] = round(random.uniform(0, i_list[mutation_index2].available_weight), 1)\n",
    "    \n",
    "    return cros_pop\n",
    "\n",
    "# Mutation\n",
    "def mutationn(chromosome, i_list=Snacks, mut_rate=MUTATION_RATE):\n",
    "    if random.uniform(0, 1) <= mut_rate:\n",
    "        mutation_index1 = random.randint(0, SNACKS_COUNT - 1)\n",
    "        mutation_index2 = random.randint(0, SNACKS_COUNT - 1)\n",
    "    \n",
    "        chromosome[mutation_index1] = round(random.uniform(0, i_list[mutation_index1].available_weight), 1)\n",
    "        chromosome[mutation_index2] = round(random.uniform(0, i_list[mutation_index2].available_weight), 1)\n",
    "    return chromosome"
   ]
  },
  {
   "cell_type": "markdown",
   "metadata": {},
   "source": [
    "# Selection Part\n",
    "\n",
    "After the crossover and mutation operations, we need to select the chromosomes that will proceed to the next generation. This selection process is crucial for guiding the evolutionary process of the genetic algorithm.\n",
    "\n",
    "- **`rank_by_fitness()`**: This function ranks the chromosomes of a population based on their fitness values in ascending order. It calculates the fitness of each chromosome using the `fitness_function()` and then sorts the population accordingly.\n",
    "\n",
    "- **`selection_by_rank()`**: This function performs selection based on ranking. It first calls `rank_by_fitness()` to obtain the sorted population. Then, it calculates a probability score for each chromosome based on its rank using the formula:\n",
    "  $$ p\\_score = \\frac{i+1}{\\sum_{i=1}^{n} i} $$\n",
    "  Where $i$ ranges from 0 to the size of the population. Higher-ranked chromosomes receive higher probability scores, increasing their chance of selection. The selection process is performed using random sampling with replacement, ensuring that chromosomes with higher fitness have a greater chance of being selected."
   ]
  },
  {
   "cell_type": "code",
   "execution_count": 82,
   "metadata": {},
   "outputs": [],
   "source": [
    "# Rank chromosomes by their fitness\n",
    "def rank_by_fitness(pop, i_list=Snacks):\n",
    "    pop_with_fitness = []\n",
    "    \n",
    "    for p in pop:\n",
    "        fitness = fitness_function(i_list, p)\n",
    "        p.append(fitness)\n",
    "        pop_with_fitness.append(p)\n",
    "    \n",
    "    sorted_pop = sorted(pop_with_fitness, key=lambda x: x[-1])\n",
    "    \n",
    "    for p in sorted_pop:\n",
    "        p.pop(-1)\n",
    "    \n",
    "    return sorted_pop"
   ]
  },
  {
   "cell_type": "code",
   "execution_count": 83,
   "metadata": {},
   "outputs": [],
   "source": [
    "# Select chromosomes to proceed to next generation\n",
    "def selection_by_rank(pop):\n",
    "    sorted_pop = rank_by_fitness(pop)\n",
    "    denom = (len(sorted_pop) * (len(sorted_pop) + 1)) / 2\n",
    "    p_score = [round((i+1)/denom, 3) for i in range(len(sorted_pop))]\n",
    "    new_gen = random.choices(sorted_pop, weights=p_score, k=len(pop))\n",
    "    \n",
    "    return new_gen"
   ]
  },
  {
   "cell_type": "markdown",
   "metadata": {},
   "source": [
    "# Create Generation\n",
    "\n",
    "The **`create_generation()`** function generates a new generation by performing crossover, mutation, and selection operations.\n",
    "\n",
    "- First, the function calls the **`crossover()`** function to apply crossover operations to the population.\n",
    "- Next, it calls the **`mutation()`** (or maybe **`mutationn()`**) function to introduce random mutations to the chromosomes in the population. Note that the mutation rate (`mut_rate`) parameter is used to control the probability of mutation.\n",
    "- Finally, the function calls the **`selection_by_rank()`** function to select the fittest chromosomes based on their ranks and probabilities calculated using the ranking."
   ]
  },
  {
   "cell_type": "code",
   "execution_count": 84,
   "metadata": {},
   "outputs": [],
   "source": [
    "# Generate a new generation\n",
    "def create_generation(pop, mut_rate=MUTATION_RATE):\n",
    "    new_gen = []\n",
    "    crossovered_pop = crossover(pop)\n",
    "    for _ in range(len(crossovered_pop)):\n",
    "        crossovered_pop = mutation(crossovered_pop)\n",
    "\n",
    "    # for chromosome in crossovered_pop:\n",
    "    #     chromosome = mutationn(chromosome)\n",
    "    \n",
    "            \n",
    "    new_gen = selection_by_rank(crossovered_pop)\n",
    "    return new_gen"
   ]
  },
  {
   "cell_type": "markdown",
   "metadata": {},
   "source": [
    "# Main Process\n",
    "\n",
    "## Best Solution Function\n",
    "\n",
    "The **`best_solution()`** function calculates the sum of fitnesses of all chromosomes in each generation (`best_val`), finds the maximum fitness (`temp`), and identifies the chromosome with the maximum fitness (`sol`). This function helps analyze the performance of the genetic algorithm in each generation.\n",
    "\n",
    "## Genetic Algorithm\n",
    "\n",
    "The **`genetic_algorithm()`** function orchestrates the main process of the genetic algorithm. It initializes a random population using the **`initial_population()`** function, then iteratively generates new generations using the **`create_generation()`** function. The algorithm runs for a specified number of generations (`GENERATION_SIZE`). At each generation, it records the sum of fitnesses (`best_val`), the maximum fitness (`temp`), and the corresponding best solution (`sol`).\n",
    "\n",
    "After running the genetic algorithm, the function plots the summation of fitnesses in each generation (`value_list`) to visualize the algorithm's progress over generations.\n",
    "\n",
    "## Final Results\n",
    "\n",
    "After the genetic algorithm completes, the program identifies the best solution among all generations by finding the maximum fitness (`max_fitness`) and its corresponding index (`ind`). It then prints the details of the best solution, including the selected snacks and their weights and values."
   ]
  },
  {
   "cell_type": "code",
   "execution_count": 85,
   "metadata": {},
   "outputs": [],
   "source": [
    "def best_solution(pop, i_list):\n",
    "    best = 0\n",
    "    temp = 0\n",
    "    sol = []\n",
    "    for p in pop:\n",
    "        fitness = fitness_function(i_list, p)\n",
    "        if fitness > temp:\n",
    "            sol = p\n",
    "            temp = fitness\n",
    "    \n",
    "    for p in pop:\n",
    "        fitness = fitness_function(i_list, p)\n",
    "        best += fitness\n",
    "    print(sol, calculate_weight(i_list, sol), calculate_value(i_list, sol))\n",
    "    return best, temp, sol"
   ]
  },
  {
   "cell_type": "code",
   "execution_count": 86,
   "metadata": {},
   "outputs": [
    {
     "name": "stdout",
     "output_type": "stream",
     "text": [
      "Best chromosomes of each generation\n",
      "[0, 12.6, 0, 0, 17.4, 0, 8.7, 0.6, 0, 4.2, 0, 0, 13.7, 0, 0, 0, 0, 0, 11.9] 69.1 54.266\n",
      "[0, 12.6, 0, 0, 17.4, 0, 8.7, 0.6, 0, 4.2, 0, 0, 13.7, 0, 0, 0, 0, 0, 11.9] 69.1 54.266\n",
      "[6.4, 3.2, 0, 0, 0, 5.3, 2.8, 2.7, 0, 0, 3.9, 0, 8.5, 0, 9.6, 0, 6.0, 8.9, 0] 57.3 56.42\n",
      "[6.4, 3.2, 0, 0, 0, 5.3, 2.8, 2.7, 0, 0, 3.9, 0, 8.5, 0, 9.6, 0, 6.0, 8.9, 3.6] 60.9 59.744\n",
      "[0, 0, 4.7, 0, 17.7, 1.0, 0, 5.2, 0, 2.1, 0.5, 0, 8.7, 1.9, 3.2, 0, 6.0, 8.9, 3.6] 63.5 64.546\n",
      "[9.3, 0, 0, 6.2, 16.1, 0, 8.7, 0.6, 0, 4.2, 3.5, 12.2, 1.8, 0, 6.9, 3.7, 0, 4.8, 0] 78.0 74.683\n",
      "[0, 6.7, 5.0, 0.5, 18.8, 0, 0, 4.8, 0, 9.3, 0.8, 11.7, 5.7, 0, 1.9, 0, 0, 1.8, 11.9] 78.9 67.385\n",
      "[0, 12.6, 0, 4.5, 0, 0, 0, 4.8, 0, 9.3, 0.5, 0, 8.7, 1.9, 3.2, 3.8, 5.0, 4.3, 10.0] 68.6 74.014\n",
      "[1.0, 0, 0, 0, 18.9, 0, 8.7, 0.6, 3.1, 0.9, 1.4, 0, 15.0, 2.8, 8.7, 0.3, 4.7, 5.6, 5.6] 77.3 73.747\n",
      "[1.0, 0, 0, 0, 18.9, 0, 8.7, 0.6, 3.1, 0.9, 1.4, 0, 15.0, 2.8, 8.7, 0.3, 4.7, 5.6, 5.6] 77.3 73.747\n",
      "[0, 8.1, 0, 4.5, 0, 0, 7.3, 2.7, 7.4, 4.7, 0.5, 0, 8.7, 1.9, 3.2, 3.8, 5.0, 4.3, 10.0] 72.1 78.697\n",
      "[1.0, 8.1, 0, 4.5, 0, 0, 7.3, 2.7, 7.4, 2.1, 0.5, 0, 8.1, 1.9, 8.7, 0, 4.6, 4.8, 11.9] 73.6 78.793\n",
      "[1.0, 8.1, 0, 4.5, 0, 0, 7.3, 2.7, 7.4, 2.1, 0.5, 0, 8.1, 1.9, 8.7, 0, 4.6, 4.8, 11.9] 73.6 78.793\n",
      "[1.0, 8.1, 0, 4.5, 4.9, 0, 7.3, 2.7, 7.4, 2.1, 0.5, 0, 8.7, 2.3, 3.2, 3.8, 3.4, 1.8, 11.9] 73.6 78.118\n",
      "[5.9, 2.7, 0.7, 3.6, 17.7, 3.9, 0, 0.6, 0, 0.9, 1.4, 0, 8.5, 2.3, 3.2, 3.8, 4.2, 1.8, 11.9] 73.1 74.212\n",
      "[5.9, 2.7, 0.7, 3.6, 17.7, 3.9, 10.6, 1.4, 2.2, 2.1, 0.5, 0, 3.7, 2.0, 3.2, 3.8, 0, 4.3, 9.7] 78.0 75.87\n",
      "[5.9, 2.7, 0.7, 3.6, 17.7, 3.9, 10.6, 1.4, 2.2, 2.1, 0.5, 0, 3.7, 2.0, 3.2, 3.8, 0, 4.3, 9.7] 78.0 75.87\n",
      "[5.9, 2.7, 0.7, 3.6, 17.7, 3.9, 10.6, 1.4, 2.2, 2.1, 0.5, 0, 3.7, 2.0, 3.2, 3.8, 0, 4.3, 9.7] 78.0 75.87\n",
      "[1.0, 3.0, 2.7, 2.1, 13.1, 3.9, 0, 3.2, 8.1, 0.9, 1.4, 2.6, 8.7, 2.3, 3.2, 3.8, 2.6, 4.3, 9.7] 76.6 79.254\n",
      "[4.3, 2.7, 0.7, 3.6, 17.7, 3.5, 8.7, 0.6, 2.5, 9.2, 0.5, 0, 8.7, 2.0, 3.2, 3.8, 2.6, 1.7, 0.8] 76.8 75.654\n",
      "[5.9, 3.0, 2.7, 2.1, 13.1, 3.9, 0, 3.2, 8.1, 0.9, 1.4, 2.6, 8.7, 2.3, 3.2, 2.4, 2.6, 8.4, 0.8] 75.3 79.27\n",
      "[5.9, 2.7, 0, 5.0, 0.4, 1.4, 8.7, 0.6, 5.8, 4.9, 0.5, 9.7, 8.7, 0.8, 3.2, 3.8, 4.2, 1.8, 9.8] 77.9 79.255\n",
      "[5.9, 2.7, 0.7, 2.9, 17.4, 2.4, 0.7, 3.2, 8.1, 0.9, 1.4, 2.6, 8.7, 0.1, 3.2, 1.3, 4.3, 6.7, 5.9] 79.1 79.956\n",
      "[5.9, 2.7, 0.7, 5.0, 0.4, 1.0, 7.3, 2.7, 7.4, 2.1, 0.5, 9.7, 8.7, 2.3, 3.2, 3.8, 1.5, 4.5, 9.7] 79.1 83.355\n",
      "[5.9, 2.7, 0.7, 2.9, 17.4, 2.4, 0.7, 3.2, 8.1, 0.9, 0.5, 1.2, 8.7, 0.9, 3.2, 0.1, 5.9, 4.3, 9.8] 79.5 81.535\n",
      "[9.4, 3.0, 2.7, 3.6, 6.9, 3.5, 0.1, 0.6, 7.5, 0.9, 0.4, 10.7, 8.5, 2.3, 3.2, 3.8, 2.6, 8.4, 0.8] 78.9 82.992\n",
      "[5.9, 2.7, 2.6, 2.9, 17.4, 2.4, 8.6, 3.2, 8.1, 0.9, 0.5, 1.2, 8.7, 2.8, 3.2, 1.6, 2.6, 1.7, 0.8] 77.8 78.735\n",
      "[5.9, 2.7, 2.6, 2.9, 17.4, 2.4, 8.6, 3.2, 8.1, 0.9, 0.5, 1.2, 8.7, 2.8, 3.2, 1.6, 2.6, 1.7, 0.8] 77.8 78.735\n",
      "[5.9, 2.7, 0.7, 6.5, 0.4, 7.0, 8.7, 0.6, 2.6, 3.4, 1.4, 5.2, 8.5, 2.3, 3.2, 3.8, 2.6, 8.4, 0.8] 74.7 80.42\n",
      "[4.3, 2.7, 4.7, 0.7, 4.2, 1.0, 7.3, 0.2, 7.4, 2.1, 0.5, 10.7, 8.5, 2.3, 3.2, 4.4, 6.2, 8.4, 0.8] 79.6 80.94\n",
      "[8.0, 2.7, 0.7, 6.5, 4.9, 3.5, 8.7, 0.6, 2.6, 3.4, 0.7, 7.9, 15.0, 2.8, 3.2, 1.6, 2.6, 1.7, 0.8] 77.9 79.925\n",
      "[9.3, 3.0, 2.7, 5.0, 0.4, 5.2, 4.8, 0.6, 7.1, 3.4, 1.4, 5.2, 15.0, 2.3, 3.2, 3.5, 4.2, 1.7, 0.8] 78.8 83.874\n",
      "[9.3, 3.0, 2.7, 5.0, 0.4, 5.2, 4.8, 0.6, 7.1, 3.4, 1.4, 5.2, 15.0, 2.3, 3.2, 3.5, 4.2, 1.7, 0.8] 78.8 83.874\n",
      "[5.9, 2.7, 0.7, 6.5, 4.9, 7.0, 8.7, 0.6, 2.6, 3.4, 1.2, 3.4, 15.0, 2.8, 3.2, 1.4, 5.7, 1.7, 1.9] 79.3 83.261\n",
      "[5.9, 2.7, 4.4, 5.0, 0.4, 5.2, 4.8, 0.6, 7.1, 0.9, 0.4, 10.7, 8.7, 2.3, 3.2, 3.8, 4.3, 1.7, 7.4] 79.5 83.486\n",
      "[9.3, 2.7, 4.4, 5.0, 0.4, 5.2, 4.8, 0.6, 7.1, 3.4, 1.4, 5.2, 8.5, 2.3, 3.2, 3.8, 2.6, 8.4, 0.8] 79.1 86.356\n",
      "[9.3, 2.7, 4.4, 5.0, 0.4, 5.2, 4.8, 0.6, 7.1, 3.4, 1.4, 5.2, 8.7, 2.3, 3.2, 3.8, 2.6, 8.4, 0.8] 79.3 86.519\n",
      "[9.3, 2.7, 4.4, 5.0, 0.4, 5.2, 4.8, 0.6, 7.1, 3.4, 1.4, 5.2, 8.7, 2.3, 3.2, 3.8, 2.6, 8.4, 0.8] 79.3 86.519\n",
      "[5.9, 2.7, 0.7, 6.5, 4.9, 3.5, 8.7, 0.6, 7.1, 3.4, 0.2, 5.2, 8.5, 2.3, 3.2, 3.8, 2.6, 8.4, 0.8] 79.0 85.97\n",
      "[5.9, 2.7, 0.7, 6.5, 4.9, 3.5, 8.7, 0.6, 7.1, 3.4, 0.2, 5.2, 8.5, 2.3, 3.2, 3.8, 2.6, 8.4, 0.8] 79.0 85.97\n",
      "[5.9, 2.7, 0.7, 6.5, 0.4, 1.4, 8.7, 0.6, 6.3, 8.3, 1.4, 5.2, 1.5, 2.3, 8.1, 3.8, 2.6, 5.4, 7.5] 79.3 87.294\n",
      "[5.9, 2.7, 0.7, 6.5, 4.9, 3.5, 8.7, 0.6, 7.1, 3.4, 0.2, 5.2, 8.5, 2.3, 3.2, 3.8, 3.3, 8.4, 0.8] 79.7 86.97\n",
      "[5.9, 2.7, 0.7, 6.5, 4.9, 3.5, 8.7, 0.6, 7.1, 3.4, 0.2, 5.2, 8.5, 2.3, 3.2, 3.8, 2.6, 8.4, 0.8] 79.0 85.97\n",
      "[9.3, 2.7, 0.7, 6.5, 6.0, 0.3, 0.1, 0.6, 7.4, 2.1, 1.4, 5.2, 15.0, 2.3, 3.2, 3.8, 2.6, 7.6, 0.8] 77.6 86.666\n",
      "[4.8, 2.7, 0.7, 6.5, 6.0, 5.4, 0.1, 0.6, 7.4, 7.4, 0.9, 0.9, 15.0, 2.8, 3.2, 4.8, 2.4, 1.7, 5.7] 79.0 87.419\n",
      "[9.7, 2.7, 0.7, 6.5, 6.0, 0.3, 0.1, 0.6, 7.4, 2.1, 1.4, 5.2, 15.0, 2.3, 3.2, 3.8, 2.6, 7.6, 0.8] 78.0 87.066\n",
      "[9.3, 2.7, 0.7, 6.5, 6.0, 0.3, 0.1, 0.6, 7.4, 2.1, 1.4, 5.2, 15.0, 2.3, 3.2, 3.8, 2.6, 7.6, 0.8] 77.6 86.666\n",
      "[5.9, 2.7, 0.7, 6.5, 6.0, 0.3, 0.1, 0.6, 7.4, 2.1, 2.5, 2.6, 11.7, 2.8, 9.9, 1.6, 4.1, 8.4, 0.1] 76.0 87.044\n",
      "[3.6, 2.7, 4.0, 6.5, 4.9, 0.3, 0.1, 1.9, 7.4, 2.1, 2.5, 2.6, 14.3, 2.8, 9.9, 1.6, 4.1, 8.4, 0.1] 79.8 90.848\n",
      "[5.9, 4.6, 4.0, 6.5, 6.0, 0.3, 0.1, 0.6, 7.4, 2.1, 1.5, 2.6, 8.7, 2.8, 9.9, 4.5, 2.6, 8.4, 0.8] 79.3 90.156\n",
      "[5.9, 2.7, 0.7, 6.5, 6.0, 0.3, 0.1, 0.6, 7.4, 3.8, 0.5, 7.7, 8.7, 2.8, 9.9, 4.5, 2.6, 8.4, 0.8] 79.9 89.568\n",
      "[5.9, 2.7, 0.7, 6.5, 6.0, 0.3, 0.1, 0.6, 7.4, 3.8, 0.5, 7.7, 8.7, 2.8, 9.9, 4.5, 2.6, 8.4, 0.8] 79.9 89.568\n",
      "[5.9, 2.7, 0.7, 6.5, 6.0, 0.3, 0.1, 0.6, 7.4, 3.8, 0.5, 7.7, 8.7, 2.8, 9.9, 4.5, 2.6, 8.4, 0.8] 79.9 89.568\n",
      "[5.9, 2.7, 0.7, 6.5, 6.0, 0.3, 0.1, 0.6, 8.5, 2.1, 2.5, 2.6, 11.7, 2.9, 9.9, 1.6, 4.1, 8.4, 0.1] 77.2 88.744\n",
      "[9.3, 2.7, 0.7, 6.5, 6.0, 2.2, 2.4, 4.8, 6.9, 7.1, 1.4, 2.6, 0.9, 2.3, 6.5, 4.5, 2.6, 8.4, 0.8] 78.6 90.517\n",
      "[4.2, 2.7, 0.7, 6.5, 6.0, 0.3, 0.1, 6.0, 7.4, 2.1, 0.5, 2.6, 8.7, 2.8, 9.9, 4.5, 2.6, 8.4, 1.2] 77.2 89.559\n",
      "[9.3, 2.7, 0.7, 6.5, 6.0, 0.3, 0.1, 0.6, 7.5, 2.1, 0.5, 2.6, 15.0, 2.8, 7.6, 4.5, 2.6, 7.6, 0.8] 79.8 90.194\n",
      "[5.9, 2.7, 0.7, 6.5, 6.0, 0.3, 0.1, 0.6, 7.4, 3.8, 0.5, 7.7, 8.7, 2.8, 9.9, 4.5, 2.6, 8.4, 0.8] 79.9 89.568\n",
      "[5.9, 2.7, 0.7, 6.5, 6.0, 2.1, 0.1, 0.6, 7.3, 4.7, 2.5, 0.2, 8.7, 2.8, 7.6, 1.6, 2.0, 8.4, 8.9] 79.3 89.933\n",
      "[5.9, 2.7, 0.7, 6.5, 6.0, 2.1, 0.1, 0.6, 7.3, 4.7, 2.5, 0.2, 8.7, 2.8, 7.6, 1.6, 2.0, 8.4, 8.9] 79.3 89.933\n",
      "[9.3, 2.7, 0.7, 6.5, 6.0, 0.3, 0.1, 6.0, 7.4, 2.1, 0.5, 2.6, 8.7, 2.8, 6.4, 2.9, 2.6, 8.4, 1.2] 77.2 89.589\n",
      "[9.3, 2.7, 0.7, 6.5, 6.0, 0.3, 0.1, 6.0, 7.4, 2.1, 0.5, 2.6, 8.7, 2.8, 7.6, 3.0, 4.2, 7.6, 0.8] 78.9 91.728\n",
      "[5.9, 2.7, 0.7, 6.5, 6.0, 0.3, 0.1, 6.0, 7.5, 2.1, 3.2, 2.6, 8.7, 2.8, 6.4, 3.8, 2.6, 8.4, 1.2] 77.5 90.102\n",
      "[4.3, 2.7, 0.7, 6.5, 10.4, 0.3, 0.1, 6.0, 7.4, 2.1, 0.5, 2.6, 8.7, 2.8, 7.6, 3.0, 4.2, 7.6, 0.8] 78.3 90.028\n",
      "[4.3, 2.7, 0.7, 6.5, 10.4, 0.3, 0.1, 6.0, 7.4, 2.1, 0.5, 2.6, 8.7, 2.8, 7.6, 3.0, 4.2, 7.6, 0.8] 78.3 90.028\n",
      "[9.3, 2.7, 0.7, 6.5, 6.0, 0.3, 0.1, 6.0, 7.4, 0.9, 0.9, 2.6, 8.7, 2.8, 6.4, 4.0, 2.6, 8.4, 2.9] 79.2 91.678\n",
      "[9.3, 2.7, 0.7, 6.5, 6.0, 0.3, 0.1, 6.0, 7.4, 0.9, 0.9, 2.6, 8.7, 2.8, 6.4, 4.0, 2.6, 8.4, 2.9] 79.2 91.678\n",
      "[5.9, 2.7, 1.4, 6.5, 4.6, 0.3, 0.1, 3.5, 7.4, 9.1, 0.5, 2.6, 8.7, 2.8, 9.9, 1.6, 2.6, 8.4, 1.2] 79.8 91.512\n",
      "[5.9, 2.7, 1.4, 6.5, 4.6, 0.3, 0.1, 3.5, 7.4, 9.1, 0.5, 2.6, 8.7, 2.8, 9.9, 1.6, 2.6, 8.4, 1.2] 79.8 91.512\n",
      "[9.3, 2.7, 0.7, 6.5, 6.0, 0.3, 0.1, 6.0, 7.4, 2.1, 0.5, 2.6, 8.7, 2.8, 2.0, 4.5, 6.3, 8.4, 1.2] 78.1 92.835\n",
      "[7.2, 2.7, 0.7, 6.5, 4.9, 0.3, 0.1, 6.0, 7.4, 2.1, 0.5, 0.2, 8.7, 2.8, 9.9, 3.8, 3.0, 8.4, 2.9] 78.1 91.492\n",
      "[5.9, 2.7, 1.4, 6.5, 4.6, 0.3, 0.1, 3.5, 7.4, 9.1, 0.5, 2.6, 8.7, 2.8, 9.9, 1.6, 2.6, 8.4, 0.8] 79.4 91.143\n",
      "[5.9, 2.7, 1.4, 6.5, 4.9, 0.3, 0.1, 6.0, 7.4, 2.1, 0.5, 2.6, 8.7, 2.8, 9.9, 1.1, 5.0, 8.4, 2.9] 79.2 92.052\n",
      "[9.3, 2.7, 0.7, 6.5, 6.0, 0.3, 0.1, 6.0, 7.4, 2.1, 0.5, 2.6, 8.7, 2.8, 7.6, 3.0, 4.2, 7.6, 1.2] 79.3 92.097\n",
      "[5.9, 2.7, 3.7, 6.5, 4.9, 0.3, 0.1, 0.6, 7.4, 9.1, 2.7, 1.2, 8.7, 2.8, 2.0, 4.5, 6.3, 8.4, 1.2] 79.0 93.61\n",
      "[5.9, 2.7, 3.7, 6.5, 4.9, 0.3, 0.1, 0.6, 7.4, 9.1, 2.7, 1.2, 8.7, 2.8, 2.0, 4.5, 6.3, 8.4, 1.2] 79.0 93.61\n",
      "[5.9, 2.7, 0.7, 6.5, 1.9, 4.4, 0.1, 6.0, 7.4, 2.1, 0.5, 2.6, 8.7, 2.8, 9.9, 1.1, 5.0, 8.4, 2.9] 79.6 92.177\n",
      "[5.9, 2.7, 0.7, 6.5, 6.0, 0.3, 0.1, 6.0, 5.8, 0.9, 1.8, 2.6, 8.7, 2.8, 7.6, 4.5, 6.3, 8.4, 1.2] 78.8 92.441\n",
      "[5.9, 2.7, 0.7, 6.5, 6.0, 0.3, 0.1, 6.0, 7.4, 2.1, 0.5, 2.6, 8.7, 2.8, 9.9, 3.8, 4.1, 8.4, 0.1] 78.6 91.547\n",
      "[5.9, 2.7, 0.7, 6.5, 6.0, 4.0, 2.0, 6.0, 7.3, 9.2, 2.5, 2.6, 3.0, 2.8, 2.0, 0.4, 6.3, 8.4, 1.2] 79.5 92.892\n",
      "[5.9, 2.7, 0.7, 6.5, 4.9, 0.3, 0.1, 0.6, 7.4, 9.1, 2.7, 1.2, 8.7, 2.8, 9.9, 1.1, 5.0, 7.2, 2.9] 79.7 91.885\n",
      "[5.9, 2.7, 3.1, 6.5, 6.0, 0.3, 0.1, 6.0, 7.4, 2.1, 0.5, 2.6, 8.7, 2.8, 7.6, 1.6, 6.3, 8.4, 1.2] 79.8 93.395\n",
      "[5.9, 2.7, 3.1, 6.5, 6.0, 0.3, 0.1, 6.0, 7.4, 2.1, 0.5, 2.6, 8.7, 2.8, 7.6, 1.6, 6.3, 8.4, 1.2] 79.8 93.395\n",
      "[5.9, 2.7, 0.7, 6.5, 6.0, 0.3, 0.1, 6.0, 7.4, 2.1, 2.5, 2.6, 8.7, 2.8, 7.6, 1.6, 6.3, 8.4, 1.2] 79.4 92.995\n",
      "[5.9, 2.7, 0.7, 6.5, 5.9, 3.5, 0.3, 6.0, 7.4, 0.9, 1.8, 2.6, 8.7, 2.8, 7.6, 3.0, 5.0, 8.4, 0.1] 79.8 92.361\n",
      "[5.9, 2.7, 3.5, 6.5, 6.0, 0.3, 0.1, 6.0, 7.4, 0.9, 1.8, 2.6, 8.7, 2.8, 7.6, 3.0, 5.0, 8.4, 0.1] 79.3 92.702\n",
      "[5.9, 2.7, 3.5, 6.5, 6.0, 0.3, 0.1, 6.0, 7.4, 0.9, 1.8, 2.6, 8.7, 2.8, 7.6, 3.0, 5.0, 7.6, 1.2] 79.6 92.74\n",
      "[5.9, 2.7, 3.1, 6.5, 6.0, 0.3, 0.1, 5.7, 7.4, 0.9, 1.8, 2.6, 8.7, 2.8, 7.6, 3.0, 5.4, 8.4, 0.1] 79.0 92.524\n",
      "[5.9, 2.7, 3.1, 6.5, 6.0, 0.3, 0.1, 5.7, 7.4, 0.9, 1.8, 2.6, 8.7, 2.8, 7.6, 3.0, 5.4, 8.4, 0.1] 79.0 92.524\n",
      "[5.9, 2.7, 3.1, 6.5, 6.0, 0.3, 0.1, 5.7, 7.4, 0.9, 1.8, 2.6, 8.7, 2.8, 7.6, 1.6, 6.3, 8.4, 1.2] 79.6 93.145\n",
      "[5.9, 2.7, 3.1, 6.5, 6.0, 0.3, 0.1, 5.7, 7.4, 0.9, 1.8, 2.6, 1.3, 2.8, 7.6, 3.0, 5.4, 8.4, 8.1] 79.6 93.896\n",
      "[5.9, 2.7, 3.1, 6.5, 6.0, 0.3, 0.1, 5.7, 7.4, 0.9, 1.8, 2.6, 1.3, 2.8, 7.6, 3.0, 5.4, 8.4, 8.1] 79.6 93.896\n",
      "[5.9, 2.7, 3.1, 6.5, 6.0, 0.3, 0.1, 5.7, 7.4, 0.9, 1.8, 2.6, 1.3, 2.8, 7.6, 3.0, 5.4, 8.4, 8.1] 79.6 93.896\n",
      "[5.9, 2.7, 3.0, 6.5, 6.0, 0.3, 0.1, 6.0, 7.4, 9.1, 0.5, 2.6, 3.0, 2.8, 7.6, 0.7, 6.3, 8.4, 0.1] 79.0 93.568\n",
      "[5.9, 2.7, 3.1, 6.5, 6.0, 0.3, 0.1, 6.0, 7.4, 9.1, 0.5, 2.6, 2.5, 2.8, 7.6, 3.0, 5.0, 7.6, 1.2] 79.9 94.202\n",
      "[5.9, 2.7, 3.1, 6.5, 6.0, 0.3, 0.1, 6.0, 7.4, 9.1, 0.5, 2.6, 2.5, 2.8, 7.6, 3.0, 5.0, 7.6, 1.2] 79.9 94.202\n",
      "[5.9, 2.7, 1.4, 6.5, 6.1, 0.3, 0.1, 6.0, 7.4, 9.1, 0.5, 2.6, 2.5, 2.8, 7.6, 1.6, 6.3, 8.8, 1.2] 79.4 94.221\n",
      "[5.9, 2.7, 3.3, 6.5, 6.0, 0.3, 0.1, 6.0, 7.4, 9.1, 0.5, 2.6, 2.5, 2.8, 5.9, 3.0, 6.3, 7.6, 1.2] 79.7 94.729\n",
      "[5.9, 2.7, 3.3, 6.5, 6.0, 0.3, 0.1, 6.0, 7.4, 9.1, 0.5, 2.6, 2.5, 2.8, 5.9, 3.0, 6.3, 7.6, 1.2] 79.7 94.729\n",
      "[6.3, 2.7, 1.4, 6.5, 6.1, 0.3, 0.1, 6.0, 7.4, 9.1, 0.5, 2.6, 2.5, 2.8, 7.6, 1.6, 6.3, 8.8, 1.2] 79.8 94.621\n"
     ]
    }
   ],
   "source": [
    "value_list = []\n",
    "sols = []\n",
    "temps = []\n",
    "def genetic_algorithm(i_list, p_size, m_rate, gen_size):\n",
    "    pop = initial_population(p_size, i_list)\n",
    "        \n",
    "    for i in range(gen_size):\n",
    "        pop = create_generation(pop, m_rate)\n",
    "        best_val, temp, sol = best_solution(pop, i_list)\n",
    "        value_list.append(best_val)\n",
    "        sols.append(sol)\n",
    "        temps.append(temp)\n",
    "        # cnt = 0\n",
    "        # for i in temps:\n",
    "        #     if i == temp:\n",
    "        #         cnt += 1\n",
    "        # if cnt == 20:\n",
    "        #     break\n",
    "\n",
    "print(\"Best chromosomes of each generation\")\n",
    "genetic_algorithm(i_list=Snacks, p_size=POPULATION_SIZE, m_rate=MUTATION_RATE, gen_size=GENERATION_SIZE)"
   ]
  },
  {
   "cell_type": "code",
   "execution_count": 87,
   "metadata": {},
   "outputs": [
    {
     "data": {
      "image/png": "[encoded data removed]",
      "text/plain": [
       "<Figure size 640x480 with 1 Axes>"
      ]
     },
     "metadata": {},
     "output_type": "display_data"
    }
   ],
   "source": [
    "# plot the value_list which is the summation of fitnesses in each generation\n",
    "plt.plot(GENERATION_LIST, value_list, color=\"blue\")\n",
    "plt.xlabel('generations')\n",
    "plt.ylabel('values')\n",
    "plt.title(\"Plot of value_list(summation of fitnesses)\")\n",
    "plt.show()"
   ]
  },
  {
   "cell_type": "code",
   "execution_count": 88,
   "metadata": {},
   "outputs": [
    {
     "name": "stdout",
     "output_type": "stream",
     "text": [
      "[5.9, 2.7, 3.3, 6.5, 6.0, 0.3, 0.1, 6.0, 7.4, 9.1, 0.5, 2.6, 2.5, 2.8, 5.9, 3.0, 6.3, 7.6, 1.2]\n",
      "MazMaz: 5.9\n",
      "Doogh-e-Abali: 2.7\n",
      "Nani: 3.3\n",
      "Jooj: 6.5\n",
      "Hot-Dog: 6.0\n",
      "Chips: 0.3\n",
      "Nooshaba: 0.1\n",
      "Shokolat: 6.0\n",
      "Chocoroll: 7.4\n",
      "Cookies: 9.1\n",
      "Abnabat: 0.5\n",
      "Adams-Khersi: 2.6\n",
      "Popcorn: 2.5\n",
      "Pastil: 2.8\n",
      "Tordilla: 5.9\n",
      "Masghati: 3.0\n",
      "Ghottab: 6.3\n",
      "Saghe-Talaei: 7.6\n",
      "Choob-Shoor: 1.2\n",
      "Total Weight: 79.7\n",
      "Total Value: 94.729\n"
     ]
    }
   ],
   "source": [
    "# function to find the the best chromosome of all generations and it's index\n",
    "def find_max(vals):\n",
    "    mx = 0\n",
    "    found = 0\n",
    "    for i in range(len(vals)):\n",
    "        if vals[i] > mx:\n",
    "            mx = vals[i]\n",
    "            found = i\n",
    "    return mx, found\n",
    "\n",
    "max_fitness, ind = find_max(temps)\n",
    "ans = sols[ind]\n",
    "print(ans)\n",
    "for i in range(len(ans)):\n",
    "    if ans[i] != 0:\n",
    "        print(Snacks[i].name, \": \", ans[i], sep=\"\")\n",
    "print(\"Total Weight:\",calculate_weight(Snacks, sols[ind]))\n",
    "print(\"Total Value:\", calculate_value(Snacks, sols[ind]))"
   ]
  },
  {
   "cell_type": "markdown",
   "metadata": {},
   "source": [
    "## Questions"
   ]
  },
  {
   "cell_type": "markdown",
   "metadata": {},
   "source": [
    "### 1. What problems do a very small or very large initial population cause?\n",
    "- Very large population sizes: Large populations can lead to increased computational complexity and slower convergence due to the need to evaluate a larger number of chromosomes in each generation. However, they may provide better exploration of the search space, potentially leading to finding better solutions.\n",
    "\n",
    "- Very small population sizes: Small populations may lead to faster convergence but may suffer from premature convergence to suboptimal solutions. They might also limit diversity within the population, reducing the chance of finding the global optimum."
   ]
  },
  {
   "cell_type": "markdown",
   "metadata": {},
   "source": [
    "## 2. If the number of population increases in each period, what effect does it have on the accuracy and speed of the algorithm?\n",
    "Increasing population size in each generation may lead to faster exploration of the search space, potentially improving the diversity of solutions and enhancing the algorithm's ability to find better solutions. However, it also increases computational complexity and memory usage.\n",
    "- Acuuracy would increse due to increased diversity.\n",
    "- Speed would decrese due to computation increase."
   ]
  },
  {
   "cell_type": "markdown",
   "metadata": {},
   "source": [
    "## 3. What is the effect of crossover and mutation? Is it possible to use only one of them?\n",
    "Crossover: Crossover combines genetic information from two parent chromosomes to produce offspring with characteristics inherited from both parents. It promotes exploration of the search space by creating new solutions.\n",
    "\n",
    "Mutation: Mutation introduces random changes in individual chromosomes, allowing for the introduction of new genetic material and maintaining diversity within the population. It helps in escaping local optima and exploring new regions of the search space.\n",
    "\n",
    "If we use only one of them, the algorithm will not be able to find the optimal solution. \\\n",
    "Crossover hopes to reach better chromosomes by combining two good chromosomes while mutation is used to escape getting stuck in a local extremum."
   ]
  },
  {
   "cell_type": "markdown",
   "metadata": {},
   "source": [
    "## 4. In your opinion, what solutions are there to get a solution to this particular problem faster?\n",
    "Fine-tune parameters such as mutation rate, crossover rate, population size and ... to balance exploration and exploitation efficiently.\n",
    "Implement efficient data structures and algorithms to reduce computation time, such as using binary encoding for chromosomes.\n",
    "Also the fitness function and crossover and mutation functions can be optimized to make the algorithm better."
   ]
  },
  {
   "cell_type": "markdown",
   "metadata": {},
   "source": [
    "### 5. Despite the use of these methods, it is still possible that the chromosomes will not change after several steps. Explain the reason for this and the problems it causes. What do you suggest to solve it?\n",
    "A common problem in genetic algorithms is that we may not find the solution and stuck in a local maixmum instead of global maximum. Via mutation, we can solve this problem. Also, if we see that the algorithm is not converging, we can stop the iterations(limit the number of generations). We may also use multi-start to increase the probabilty of finding the optimal solution.\n",
    "We can monitor the fitness improvement over successive generations. If the improvement falls below a certain threshold or stagnates, consider terminating the algorithm."
   ]
  },
  {
   "cell_type": "markdown",
   "metadata": {},
   "source": [
    "### 6. How to stop the algorithm if there exists no solution?\n",
    "Set a maximum number of generations or iterations and terminate the algorithm if no feasible solution is found within this limit.\n",
    "Implement termination criteria based on the fitness values of the best solutions. If the best fitness remains below a certain threshold or fails to improve over several generations, terminate the algorithm."
   ]
  }
 ],
 "metadata": {
  "kernelspec": {
   "display_name": "Python 3 (ipykernel)",
   "language": "python",
   "name": "python3"
  },
  "language_info": {
   "codemirror_mode": {
    "name": "ipython",
    "version": 3
   },
   "file_extension": ".py",
   "mimetype": "text/x-python",
   "name": "python",
   "nbconvert_exporter": "python",
   "pygments_lexer": "ipython3",
   "version": "3.10.7"
  }
 },
 "nbformat": 4,
 "nbformat_minor": 4
}
